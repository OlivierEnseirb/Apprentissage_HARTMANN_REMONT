{
 "metadata": {
  "name": "",
  "signature": "sha256:12897e1d63fbad639fafea6d46bb9aa2e938ef19c714e4b39057296f919d99f4"
 },
 "nbformat": 3,
 "nbformat_minor": 0,
 "worksheets": [
  {
   "cells": [
    {
     "cell_type": "heading",
     "level": 1,
     "metadata": {},
     "source": [
      "The Diva synthesizer environment"
     ]
    },
    {
     "cell_type": "markdown",
     "metadata": {},
     "source": [
      "DIVA is a neural model of speech acquisition and production that accounts for a wide range of acoustic, kinematic,\n",
      "and neuroimaging data concerning the control of speech movements, as describe on [this page](http://www.bu.edu/speechlab/research/the-diva-model/). The code of the model is open-source and is avaible [here](http://www.bu.edu/speechlab/software/diva-source-code/). You will have to download and unzip it to follow this tutorial. You will need [Matlab](http://fr.mathworks.com/products/matlab/) installed on your computer (unfortunately), be carefull to download the Diva version matching your matlab version.\n",
      "\n",
      "The DIVA model uses an [articulatory synthesizer](http://en.wikipedia.org/wiki/Articulatory_synthesis), i.e. a computer simulation of the human vocal tract allowing to generate the sound wave resulting from articulator movements involving the jaw, the tongue, the lips ... This is this articulatory synthesizer that we will use, independently of the neural model. For more information please refer to the documentation in the pdf provided in the DIVA zip archive.\n",
      "\n",
      "Using the DIVA bindings in Explauto also requires [pymatlab](http://pymatlab.sourceforge.net/) which provides a way to bind Matlab code to Python, so please intall this too.\n",
      "\n",
      "Finally, Matlab needs to be aware of your DIVA installation path (i.e. the path of the unzipped DIVA directory). You will have to ass it by [editing your search path](http://fr.mathworks.com/help/matlab/matlab_env/add-remove-or-reorder-folders-on-the-search-path.html) permanently.\n",
      "\n",
      "Now you should be able to use DIVA in Explauto, to check it run:"
     ]
    },
    {
     "cell_type": "code",
     "collapsed": false,
     "input": [
      "from explauto.environment.diva import DivaEnvironment, full_config\n",
      "env = DivaEnvironment(**full_config)"
     ],
     "language": "python",
     "metadata": {},
     "outputs": [],
     "prompt_number": 1
    },
    {
     "cell_type": "markdown",
     "metadata": {},
     "source": [
      "If everything went well, you can continue :)\n",
      "\n",
      "The synthesizer can be used in to ways:\n",
      "* as a standalone articulatory synthesizer through the [DivaSynth](http://flowersteam.github.io/explauto/explauto.environment.html#explauto.environment.diva.diva.DivaSynth) class, providing the python bindings to execute the standard methods from the matlab code\n",
      "* as an Explauto [Environment](http://flowersteam.github.io/explauto/explauto.environment.html#explauto.environment.environment.Environment) through the [DivaEnvironment](http://flowersteam.github.io/explauto/explauto.environment.html#explauto.environment.diva.diva.DivaEnvironment) class providing the interface to interact with an Explauto [Agent](http://flowersteam.github.io/explauto/explauto.agent.html#explauto.agent.agent.Agent)."
     ]
    },
    {
     "cell_type": "heading",
     "level": 2,
     "metadata": {},
     "source": [
      "Standalone synthesizer"
     ]
    },
    {
     "cell_type": "markdown",
     "metadata": {},
     "source": [
      "Using DIVA as a standalone synthesizer is performed by instanciating the [DivaSynth](http://flowersteam.github.io/explauto/explauto.environment.html#explauto.environment.diva.diva.DivaSynth) class:"
     ]
    },
    {
     "cell_type": "code",
     "collapsed": false,
     "input": [
      "from explauto.environment.diva import DivaSynth\n",
      "synth = DivaSynth()"
     ],
     "language": "python",
     "metadata": {},
     "outputs": [],
     "prompt_number": 1
    },
    {
     "cell_type": "markdown",
     "metadata": {},
     "source": [
      "The two methods of this object requires articulatory trajectories as input, i.e. a numpy array of shape $(13, t)$, where $t$ is the number of time steps. Each of the 13 rows of the array corresponds to the trajectory of a particular articulator. For example, the first articulator globally corresponds to an open/close dimension mainly involving the jaw, as shown in the figure below extracted from the DIVA documentation (the pdf in the zip archive). It illustrates the movements induced by the 10 first articulators (left to right, top to bottom), the 3 last ones controlling the pitch, the pressure and the voicing (see the DIVA documentation for more details). All values in the array should be in the range $[-1, 1]$."
     ]
    },
    {
     "cell_type": "markdown",
     "metadata": {},
     "source": [
      "![Alt text](diva_arts.png)"
     ]
    },
    {
     "cell_type": "markdown",
     "metadata": {},
     "source": [
      "Let's consider the following articulatory trajectory:"
     ]
    },
    {
     "cell_type": "code",
     "collapsed": false,
     "input": [
      "from numpy import zeros, linspace\n",
      "art_traj = zeros((13, 1000))  # hence 1000 time steps\n",
      "art_traj[0, :] = linspace(1, -1, 1000) # The jaw moves linearly for 1 (completely close) to 0 (completely open)\n",
      "art_traj[11:13, :] = 1  # maximum pressure and voicing to ensure phonation"
     ],
     "language": "python",
     "metadata": {},
     "outputs": [],
     "prompt_number": 2
    },
    {
     "cell_type": "markdown",
     "metadata": {},
     "source": [
      "compute the corresponding sound:"
     ]
    },
    {
     "cell_type": "code",
     "collapsed": false,
     "input": [
      "sound = synth.sound_wave(art_traj)"
     ],
     "language": "python",
     "metadata": {},
     "outputs": [],
     "prompt_number": 3
    },
    {
     "cell_type": "markdown",
     "metadata": {},
     "source": [
      "plot the sound wave:"
     ]
    },
    {
     "cell_type": "code",
     "collapsed": false,
     "input": [
      "%pylab inline\n",
      "plot(sound)"
     ],
     "language": "python",
     "metadata": {},
     "outputs": [
      {
       "output_type": "stream",
       "stream": "stdout",
       "text": [
        "Populating the interactive namespace from numpy and matplotlib\n"
       ]
      },
      {
       "metadata": {},
       "output_type": "pyout",
       "prompt_number": 4,
       "text": [
        "[<matplotlib.lines.Line2D at 0x7ff6ad76a050>]"
       ]
      },
      {
       "metadata": {},
       "output_type": "display_data",
       "png": "[encoded data removed]",
       "text": [
        "<matplotlib.figure.Figure at 0x7ff6b560e050>"
       ]
      }
     ],
     "prompt_number": 4
    },
    {
     "cell_type": "markdown",
     "metadata": {},
     "source": [
      "Play the sound"
     ]
    },
    {
     "cell_type": "code",
     "collapsed": false,
     "input": [
      "import pyaudio\n",
      "pa = pyaudio.PyAudio()\n",
      "stream = pa.open(format=pyaudio.paFloat32,\n",
      "                channels=1,\n",
      "                rate=11025,\n",
      "                output=True)"
     ],
     "language": "python",
     "metadata": {},
     "outputs": [],
     "prompt_number": 6
    },
    {
     "cell_type": "code",
     "collapsed": false,
     "input": [
      "stream.write(sound.astype(float32).tostring())"
     ],
     "language": "python",
     "metadata": {},
     "outputs": [],
     "prompt_number": 8
    },
    {
     "cell_type": "markdown",
     "metadata": {},
     "source": [
      "Compute auditory (aud) and somato-sensory (som) features, as well as vocal tract shapes: "
     ]
    },
    {
     "cell_type": "code",
     "collapsed": false,
     "input": [
      "aud, som, vt = synth.execute(art_traj)"
     ],
     "language": "python",
     "metadata": {},
     "outputs": [],
     "prompt_number": 9
    },
    {
     "cell_type": "code",
     "collapsed": false,
     "input": [
      "subplot(221)\n",
      "plot(aud.T)\n",
      "subplot(222)\n",
      "plot(som.T)\n",
      "subplot(223)\n",
      "plot(real(vt[:, 0]), imag(vt[:,0]))\n",
      "axis('equal')\n",
      "subplot(224)\n",
      "plot(real(vt[:, -1]), imag(vt[:, -1]))\n",
      "axis('equal')"
     ],
     "language": "python",
     "metadata": {},
     "outputs": [
      {
       "metadata": {},
       "output_type": "pyout",
       "prompt_number": 10,
       "text": [
        "(-20.0, 140.0, -200.0, 100.0)"
       ]
      },
      {
       "metadata": {},
       "output_type": "display_data",
       "png": "[encoded data removed]",
       "text": [
        "<matplotlib.figure.Figure at 0x7f3026882e10>"
       ]
      }
     ],
     "prompt_number": 10
    },
    {
     "cell_type": "heading",
     "level": 2,
     "metadata": {},
     "source": [
      "Explauto environment"
     ]
    },
    {
     "cell_type": "code",
     "collapsed": false,
     "input": [
      "from explauto.environment.diva import DivaEnvironment, configurations"
     ],
     "language": "python",
     "metadata": {},
     "outputs": [],
     "prompt_number": 11
    },
    {
     "cell_type": "code",
     "collapsed": false,
     "input": [
      "configurations.keys()"
     ],
     "language": "python",
     "metadata": {},
     "outputs": [
      {
       "metadata": {},
       "output_type": "pyout",
       "prompt_number": 12,
       "text": [
        "['default', 'vowel_config', 'full_config', 'low_config']"
       ]
      }
     ],
     "prompt_number": 12
    },
    {
     "cell_type": "code",
     "collapsed": false,
     "input": [
      "env = DivaEnvironment(**configurations['vowel_config'])"
     ],
     "language": "python",
     "metadata": {},
     "outputs": [],
     "prompt_number": 13
    },
    {
     "cell_type": "code",
     "collapsed": false,
     "input": [
      "from explauto import Agent, SensorimotorModel, InterestModel, Experiment\n",
      "\n",
      "sm_model = SensorimotorModel.from_configuration(env.conf, 'nearest_neighbor', 'default')\n",
      "im_model = InterestModel.from_configuration(env.conf, env.conf.s_dims, 'discretized_progress')\n",
      "\n",
      "ag = Agent(env.conf, sm_model, im_model)\n",
      "\n",
      "expe = Experiment(env, ag)"
     ],
     "language": "python",
     "metadata": {},
     "outputs": [],
     "prompt_number": 14
    },
    {
     "cell_type": "code",
     "collapsed": false,
     "input": [
      "expe.run(100)"
     ],
     "language": "python",
     "metadata": {},
     "outputs": [
      {
       "output_type": "stream",
       "stream": "stderr",
       "text": [
        "WARNING:explauto.agent.agent:Sensorimotor model not bootstrapped yet\n"
       ]
      }
     ],
     "prompt_number": 15
    },
    {
     "cell_type": "code",
     "collapsed": false,
     "input": [
      "%pylab inline\n",
      "ax = axes()\n",
      "expe.log.scatter_plot(ax, (('sensori', range(2)),))"
     ],
     "language": "python",
     "metadata": {},
     "outputs": [
      {
       "output_type": "stream",
       "stream": "stdout",
       "text": [
        "Populating the interactive namespace from numpy and matplotlib\n"
       ]
      },
      {
       "metadata": {},
       "output_type": "display_data",
       "png": "[encoded data removed]",
       "text": [
        "<matplotlib.figure.Figure at 0x7f3026864f10>"
       ]
      }
     ],
     "prompt_number": 16
    },
    {
     "cell_type": "code",
     "collapsed": false,
     "input": [
      "%debug"
     ],
     "language": "python",
     "metadata": {},
     "outputs": [
      {
       "output_type": "stream",
       "stream": "stdout",
       "text": [
        "> \u001b[1;32m/home/clement/Documents/Boulot/INRIA_FLOWERS/CODE/explauto/explauto/utils/utils.py\u001b[0m(12)\u001b[0;36mbounds_min_max\u001b[1;34m()\u001b[0m\n",
        "\u001b[1;32m     11 \u001b[1;33m\u001b[1;32mdef\u001b[0m \u001b[0mbounds_min_max\u001b[0m\u001b[1;33m(\u001b[0m\u001b[0mv\u001b[0m\u001b[1;33m,\u001b[0m \u001b[0mmins\u001b[0m\u001b[1;33m,\u001b[0m \u001b[0mmaxs\u001b[0m\u001b[1;33m)\u001b[0m\u001b[1;33m:\u001b[0m\u001b[1;33m\u001b[0m\u001b[0m\n",
        "\u001b[0m\u001b[1;32m---> 12 \u001b[1;33m    \u001b[0mres\u001b[0m \u001b[1;33m=\u001b[0m \u001b[0mnp\u001b[0m\u001b[1;33m.\u001b[0m\u001b[0mminimum\u001b[0m\u001b[1;33m(\u001b[0m\u001b[0mv\u001b[0m\u001b[1;33m,\u001b[0m \u001b[0mmaxs\u001b[0m\u001b[1;33m)\u001b[0m\u001b[1;33m\u001b[0m\u001b[0m\n",
        "\u001b[0m\u001b[1;32m     13 \u001b[1;33m    \u001b[0mres\u001b[0m \u001b[1;33m=\u001b[0m \u001b[0mnp\u001b[0m\u001b[1;33m.\u001b[0m\u001b[0mmaximum\u001b[0m\u001b[1;33m(\u001b[0m\u001b[0mres\u001b[0m\u001b[1;33m,\u001b[0m \u001b[0mmins\u001b[0m\u001b[1;33m)\u001b[0m\u001b[1;33m\u001b[0m\u001b[0m\n",
        "\u001b[0m\n"
       ]
      },
      {
       "name": "stdout",
       "output_type": "stream",
       "stream": "stdout",
       "text": [
        "ipdb> u\n"
       ]
      },
      {
       "output_type": "stream",
       "stream": "stdout",
       "text": [
        "> \u001b[1;32m/home/clement/Documents/Boulot/INRIA_FLOWERS/CODE/explauto/explauto/agent/agent.py\u001b[0m(114)\u001b[0;36msensory_primitive\u001b[1;34m()\u001b[0m\n",
        "\u001b[1;32m    113 \u001b[1;33m        \"\"\"\n",
        "\u001b[0m\u001b[1;32m--> 114 \u001b[1;33m        \u001b[1;32mreturn\u001b[0m \u001b[0mbounds_min_max\u001b[0m\u001b[1;33m(\u001b[0m\u001b[0ms\u001b[0m\u001b[1;33m,\u001b[0m \u001b[0mself\u001b[0m\u001b[1;33m.\u001b[0m\u001b[0mconf\u001b[0m\u001b[1;33m.\u001b[0m\u001b[0ms_mins\u001b[0m\u001b[1;33m,\u001b[0m \u001b[0mself\u001b[0m\u001b[1;33m.\u001b[0m\u001b[0mconf\u001b[0m\u001b[1;33m.\u001b[0m\u001b[0ms_maxs\u001b[0m\u001b[1;33m)\u001b[0m\u001b[1;33m\u001b[0m\u001b[0m\n",
        "\u001b[0m\u001b[1;32m    115 \u001b[1;33m\u001b[1;33m\u001b[0m\u001b[0m\n",
        "\u001b[0m\n"
       ]
      },
      {
       "name": "stdout",
       "output_type": "stream",
       "stream": "stdout",
       "text": [
        "ipdb> p s.shape\n"
       ]
      },
      {
       "output_type": "stream",
       "stream": "stdout",
       "text": [
        "(2,)\n"
       ]
      }
     ]
    },
    {
     "cell_type": "code",
     "collapsed": false,
     "input": [
      "s = env.update(env.random_motors()[0])"
     ],
     "language": "python",
     "metadata": {},
     "outputs": [],
     "prompt_number": 10
    },
    {
     "cell_type": "code",
     "collapsed": false,
     "input": [
      "s.shape"
     ],
     "language": "python",
     "metadata": {},
     "outputs": [
      {
       "metadata": {},
       "output_type": "pyout",
       "prompt_number": 11,
       "text": [
        "(9,)"
       ]
      }
     ],
     "prompt_number": 11
    },
    {
     "cell_type": "code",
     "collapsed": false,
     "input": [
      "ag.conf.s_ndims"
     ],
     "language": "python",
     "metadata": {},
     "outputs": [
      {
       "metadata": {},
       "output_type": "pyout",
       "prompt_number": 7,
       "text": [
        "4"
       ]
      }
     ],
     "prompt_number": 7
    },
    {
     "cell_type": "code",
     "collapsed": false,
     "input": [
      "environments['diva'] = (DivaEnvironment, configurations, _)"
     ],
     "language": "python",
     "metadata": {},
     "outputs": [],
     "prompt_number": 39
    },
    {
     "cell_type": "code",
     "collapsed": false,
     "input": [
      "available_configurations('diva').keys()"
     ],
     "language": "python",
     "metadata": {},
     "outputs": [
      {
       "metadata": {},
       "output_type": "pyout",
       "prompt_number": 42,
       "text": [
        "['default', 'vowel_config', 'full_config', 'low_config']"
       ]
      }
     ],
     "prompt_number": 42
    },
    {
     "cell_type": "code",
     "collapsed": false,
     "input": [
      "env = environment(**configurations['full_config'])"
     ],
     "language": "python",
     "metadata": {},
     "outputs": [],
     "prompt_number": 2
    },
    {
     "cell_type": "code",
     "collapsed": false,
     "input": [
      "from explauto.models.dmp import DmpPrimitive\n",
      "n_bfs = 8\n",
      "n_dmps = env.conf.m_ndims\n",
      "dmp = DmpPrimitive(env.conf.m_ndims, bfs=n_bfs, \n",
      "                   used=[False] * n_dmps + [True] * n_dmps * n_bfs + [False] * n_dmps,\n",
      "                   default = [0.] * n_dmps * (n_bfs + 1) + [0.2] * n_dmps, type='rythmic') #, run_time=4)\n",
      "# dmp.dmp.cs.timesteps * 4"
     ],
     "language": "python",
     "metadata": {},
     "outputs": [],
     "prompt_number": 3
    },
    {
     "cell_type": "code",
     "collapsed": false,
     "input": [
      "from numpy.random import randn\n",
      "m = list(70. * randn(dmp.n_dmps * dmp.n_bfs))\n",
      "xs = dmp.trajectory(m, n_times=8)"
     ],
     "language": "python",
     "metadata": {},
     "outputs": [],
     "prompt_number": 4
    },
    {
     "cell_type": "code",
     "collapsed": false,
     "input": [
      "%pylab inline\n",
      "plot(xs)"
     ],
     "language": "python",
     "metadata": {},
     "outputs": [
      {
       "output_type": "stream",
       "stream": "stdout",
       "text": [
        "Populating the interactive namespace from numpy and matplotlib\n"
       ]
      },
      {
       "metadata": {},
       "output_type": "pyout",
       "prompt_number": 21,
       "text": [
        "[<matplotlib.lines.Line2D at 0x7f14822c2490>,\n",
        " <matplotlib.lines.Line2D at 0x7f14822c2710>,\n",
        " <matplotlib.lines.Line2D at 0x7f14822c2950>,\n",
        " <matplotlib.lines.Line2D at 0x7f14822c2b10>,\n",
        " <matplotlib.lines.Line2D at 0x7f14822c2cd0>,\n",
        " <matplotlib.lines.Line2D at 0x7f14822c2e90>,\n",
        " <matplotlib.lines.Line2D at 0x7f14822cb090>,\n",
        " <matplotlib.lines.Line2D at 0x7f1482d6e810>,\n",
        " <matplotlib.lines.Line2D at 0x7f14822cb410>,\n",
        " <matplotlib.lines.Line2D at 0x7f14822cb5d0>,\n",
        " <matplotlib.lines.Line2D at 0x7f14822cb790>,\n",
        " <matplotlib.lines.Line2D at 0x7f14822cb950>,\n",
        " <matplotlib.lines.Line2D at 0x7f14822cbb10>]"
       ]
      },
      {
       "metadata": {},
       "output_type": "display_data",
       "png": "[encoded data removed]",
       "text": [
        "<matplotlib.figure.Figure at 0x7f1482dbbf90>"
       ]
      }
     ],
     "prompt_number": 21
    },
    {
     "cell_type": "code",
     "collapsed": false,
     "input": [
      "s= env.sound_wave(xs)"
     ],
     "language": "python",
     "metadata": {},
     "outputs": [
      {
       "output_type": "stream",
       "stream": "stdout",
       "text": [
        "11025\n"
       ]
      }
     ],
     "prompt_number": 22
    },
    {
     "cell_type": "code",
     "collapsed": false,
     "input": [
      "# from explauto.environment import available_configurations\n",
      "# available_configurations('diva')['full_config']"
     ],
     "language": "python",
     "metadata": {},
     "outputs": []
    },
    {
     "cell_type": "code",
     "collapsed": false,
     "input": [
      "%pylab inline"
     ],
     "language": "python",
     "metadata": {},
     "outputs": [
      {
       "output_type": "stream",
       "stream": "stdout",
       "text": [
        "Populating the interactive namespace from numpy and matplotlib\n"
       ]
      }
     ],
     "prompt_number": 8
    },
    {
     "cell_type": "code",
     "collapsed": false,
     "input": [
      "plot(s)"
     ],
     "language": "python",
     "metadata": {},
     "outputs": [
      {
       "metadata": {},
       "output_type": "pyout",
       "prompt_number": 15,
       "text": [
        "[<matplotlib.lines.Line2D at 0x7f1482de6510>]"
       ]
      },
      {
       "metadata": {},
       "output_type": "display_data",
       "png": "[encoded data removed]",
       "text": [
        "<matplotlib.figure.Figure at 0x7f14e43a51d0>"
       ]
      }
     ],
     "prompt_number": 15
    },
    {
     "cell_type": "code",
     "collapsed": false,
     "input": [
      "import pyaudio\n",
      "pa = pyaudio.PyAudio()\n",
      "stream = pa.open(format=pyaudio.paFloat32,\n",
      "                channels=1,\n",
      "                rate=11025,\n",
      "                output=True)"
     ],
     "language": "python",
     "metadata": {},
     "outputs": [],
     "prompt_number": 6
    },
    {
     "cell_type": "code",
     "collapsed": false,
     "input": [
      "stream.write(s.astype(float32).tostring())"
     ],
     "language": "python",
     "metadata": {},
     "outputs": [],
     "prompt_number": 19
    },
    {
     "cell_type": "code",
     "collapsed": false,
     "input": [
      "from scipy import interpolate\n",
      "def interpol(signal, mult):\n",
      "    \"\"\" signal.shape will be multiply by mult \"\"\"\n",
      "    x = linspace(0, 1, signal.shape[0])\n",
      "    #y = np.exp(-x/3.0)\n",
      "    f = interpolate.interp1d(x, signal.T)\n",
      "\n",
      "    xnew = linspace(0, 1, signal.shape[0] * mult)\n",
      "    return f(xnew).T   # use interpolation function returned by `interp1d`"
     ],
     "language": "python",
     "metadata": {},
     "outputs": [],
     "prompt_number": 23
    },
    {
     "cell_type": "code",
     "collapsed": false,
     "input": [
      "import librosa"
     ],
     "language": "python",
     "metadata": {},
     "outputs": [],
     "prompt_number": 38
    },
    {
     "cell_type": "code",
     "collapsed": false,
     "input": [
      "for i in range(100):\n",
      "    m = list(70. * randn(dmp.n_dmps * dmp.n_bfs))\n",
      "    xs = dmp.trajectory(m, n_times=1)\n",
      "    # xs = interpol(xs, 2)\n",
      "    #n_samples = 1000\n",
      "    s= env.sound_wave(xs)\n",
      "    stream.write(s.astype(float32).tostring())\n",
      "    #librosa.output.write_wav('poppy_voc/sound_' + str(i) + '.wav', s.astype(float32), 11025)"
     ],
     "language": "python",
     "metadata": {},
     "outputs": [
      {
       "output_type": "stream",
       "stream": "stdout",
       "text": [
        "11025\n",
        "11025"
       ]
      },
      {
       "output_type": "stream",
       "stream": "stdout",
       "text": [
        "\n",
        "11025"
       ]
      },
      {
       "output_type": "stream",
       "stream": "stdout",
       "text": [
        "\n",
        "11025"
       ]
      },
      {
       "output_type": "stream",
       "stream": "stdout",
       "text": [
        "\n",
        "11025"
       ]
      },
      {
       "output_type": "stream",
       "stream": "stdout",
       "text": [
        "\n",
        "11025"
       ]
      },
      {
       "output_type": "stream",
       "stream": "stdout",
       "text": [
        "\n",
        "11025"
       ]
      },
      {
       "output_type": "stream",
       "stream": "stdout",
       "text": [
        "\n",
        "11025"
       ]
      },
      {
       "output_type": "stream",
       "stream": "stdout",
       "text": [
        "\n",
        "11025"
       ]
      },
      {
       "output_type": "stream",
       "stream": "stdout",
       "text": [
        "\n",
        "11025"
       ]
      },
      {
       "output_type": "stream",
       "stream": "stdout",
       "text": [
        "\n",
        "11025"
       ]
      },
      {
       "output_type": "stream",
       "stream": "stdout",
       "text": [
        "\n",
        "11025"
       ]
      },
      {
       "output_type": "stream",
       "stream": "stdout",
       "text": [
        "\n",
        "11025"
       ]
      },
      {
       "output_type": "stream",
       "stream": "stdout",
       "text": [
        "\n",
        "11025"
       ]
      },
      {
       "output_type": "stream",
       "stream": "stdout",
       "text": [
        "\n",
        "11025"
       ]
      },
      {
       "output_type": "stream",
       "stream": "stdout",
       "text": [
        "\n",
        "11025"
       ]
      },
      {
       "output_type": "stream",
       "stream": "stdout",
       "text": [
        "\n",
        "11025"
       ]
      },
      {
       "output_type": "stream",
       "stream": "stdout",
       "text": [
        "\n",
        "11025"
       ]
      },
      {
       "output_type": "stream",
       "stream": "stdout",
       "text": [
        "\n",
        "11025"
       ]
      },
      {
       "output_type": "stream",
       "stream": "stdout",
       "text": [
        "\n",
        "11025"
       ]
      },
      {
       "output_type": "stream",
       "stream": "stdout",
       "text": [
        "\n",
        "11025"
       ]
      },
      {
       "output_type": "stream",
       "stream": "stdout",
       "text": [
        "\n",
        "11025"
       ]
      },
      {
       "output_type": "stream",
       "stream": "stdout",
       "text": [
        "\n",
        "11025"
       ]
      },
      {
       "output_type": "stream",
       "stream": "stdout",
       "text": [
        "\n"
       ]
      },
      {
       "ename": "KeyboardInterrupt",
       "evalue": "",
       "output_type": "pyerr",
       "traceback": [
        "\u001b[1;31m---------------------------------------------------------------------------\u001b[0m\n\u001b[1;31mKeyboardInterrupt\u001b[0m                         Traceback (most recent call last)",
        "\u001b[1;32m<ipython-input-9-b7054ecdf516>\u001b[0m in \u001b[0;36m<module>\u001b[1;34m()\u001b[0m\n\u001b[0;32m      4\u001b[0m     \u001b[1;31m# xs = interpol(xs, 2)\u001b[0m\u001b[1;33m\u001b[0m\u001b[1;33m\u001b[0m\u001b[0m\n\u001b[0;32m      5\u001b[0m     \u001b[1;31m#n_samples = 1000\u001b[0m\u001b[1;33m\u001b[0m\u001b[1;33m\u001b[0m\u001b[0m\n\u001b[1;32m----> 6\u001b[1;33m     \u001b[0ms\u001b[0m\u001b[1;33m=\u001b[0m \u001b[0menv\u001b[0m\u001b[1;33m.\u001b[0m\u001b[0msound_wave\u001b[0m\u001b[1;33m(\u001b[0m\u001b[0mxs\u001b[0m\u001b[1;33m)\u001b[0m\u001b[1;33m\u001b[0m\u001b[0m\n\u001b[0m\u001b[0;32m      7\u001b[0m     \u001b[0mstream\u001b[0m\u001b[1;33m.\u001b[0m\u001b[0mwrite\u001b[0m\u001b[1;33m(\u001b[0m\u001b[0ms\u001b[0m\u001b[1;33m.\u001b[0m\u001b[0mastype\u001b[0m\u001b[1;33m(\u001b[0m\u001b[0mfloat32\u001b[0m\u001b[1;33m)\u001b[0m\u001b[1;33m.\u001b[0m\u001b[0mtostring\u001b[0m\u001b[1;33m(\u001b[0m\u001b[1;33m)\u001b[0m\u001b[1;33m)\u001b[0m\u001b[1;33m\u001b[0m\u001b[0m\n\u001b[0;32m      8\u001b[0m     \u001b[1;31m#librosa.output.write_wav('poppy_voc/sound_' + str(i) + '.wav', s.astype(float32), 11025)\u001b[0m\u001b[1;33m\u001b[0m\u001b[1;33m\u001b[0m\u001b[0m\n",
        "\u001b[1;32m/home/clement/Documents/Boulot/INRIA_FLOWERS/CODE/explauto/explauto/environment/diva/diva.pyc\u001b[0m in \u001b[0;36msound_wave\u001b[1;34m(self, art_traj)\u001b[0m\n\u001b[0;32m     63\u001b[0m         \u001b[0msynth_art\u001b[0m \u001b[1;33m=\u001b[0m \u001b[0mself\u001b[0m\u001b[1;33m.\u001b[0m\u001b[0mm_default\u001b[0m\u001b[1;33m.\u001b[0m\u001b[0mreshape\u001b[0m\u001b[1;33m(\u001b[0m\u001b[1;36m1\u001b[0m\u001b[1;33m,\u001b[0m \u001b[1;33m-\u001b[0m\u001b[1;36m1\u001b[0m\u001b[1;33m)\u001b[0m\u001b[1;33m.\u001b[0m\u001b[0mrepeat\u001b[0m\u001b[1;33m(\u001b[0m\u001b[0mlen\u001b[0m\u001b[1;33m(\u001b[0m\u001b[0mart_traj\u001b[0m\u001b[1;33m)\u001b[0m\u001b[1;33m,\u001b[0m \u001b[0maxis\u001b[0m\u001b[1;33m=\u001b[0m\u001b[1;36m0\u001b[0m\u001b[1;33m)\u001b[0m\u001b[1;33m\u001b[0m\u001b[0m\n\u001b[0;32m     64\u001b[0m         \u001b[0msynth_art\u001b[0m\u001b[1;33m[\u001b[0m\u001b[1;33m:\u001b[0m\u001b[1;33m,\u001b[0m \u001b[0mself\u001b[0m\u001b[1;33m.\u001b[0m\u001b[0mm_used\u001b[0m\u001b[1;33m]\u001b[0m \u001b[1;33m=\u001b[0m \u001b[0mart_traj\u001b[0m\u001b[1;33m\u001b[0m\u001b[0m\n\u001b[1;32m---> 65\u001b[1;33m         \u001b[1;32mreturn\u001b[0m \u001b[0mself\u001b[0m\u001b[1;33m.\u001b[0m\u001b[0msynth\u001b[0m\u001b[1;33m.\u001b[0m\u001b[0msound_wave\u001b[0m\u001b[1;33m(\u001b[0m\u001b[0msynth_art\u001b[0m\u001b[1;33m.\u001b[0m\u001b[0mT\u001b[0m\u001b[1;33m)\u001b[0m\u001b[1;33m\u001b[0m\u001b[0m\n\u001b[0m",
        "\u001b[1;32m/home/clement/Documents/Boulot/INRIA_FLOWERS/CODE/explauto/explauto/environment/diva/diva.pyc\u001b[0m in \u001b[0;36msound_wave\u001b[1;34m(self, art)\u001b[0m\n\u001b[0;32m     29\u001b[0m         \u001b[0mself\u001b[0m\u001b[1;33m.\u001b[0m\u001b[0msession\u001b[0m\u001b[1;33m.\u001b[0m\u001b[0mrun\u001b[0m\u001b[1;33m(\u001b[0m\u001b[1;34m'sr = sr(1)'\u001b[0m\u001b[1;33m)\u001b[0m\u001b[1;33m\u001b[0m\u001b[0m\n\u001b[0;32m     30\u001b[0m         \u001b[1;32mprint\u001b[0m \u001b[0mself\u001b[0m\u001b[1;33m.\u001b[0m\u001b[0msession\u001b[0m\u001b[1;33m.\u001b[0m\u001b[0mgetvalue\u001b[0m\u001b[1;33m(\u001b[0m\u001b[1;34m'sr'\u001b[0m\u001b[1;33m)\u001b[0m\u001b[1;33m\u001b[0m\u001b[0m\n\u001b[1;32m---> 31\u001b[1;33m         \u001b[0mself\u001b[0m\u001b[1;33m.\u001b[0m\u001b[0msession\u001b[0m\u001b[1;33m.\u001b[0m\u001b[0mrun\u001b[0m\u001b[1;33m(\u001b[0m\u001b[1;34m'wave = diva_synth(art, \\'sound\\')'\u001b[0m\u001b[1;33m)\u001b[0m\u001b[1;33m\u001b[0m\u001b[0m\n\u001b[0m\u001b[0;32m     32\u001b[0m         \u001b[1;32mreturn\u001b[0m \u001b[0mself\u001b[0m\u001b[1;33m.\u001b[0m\u001b[0msession\u001b[0m\u001b[1;33m.\u001b[0m\u001b[0mgetvalue\u001b[0m\u001b[1;33m(\u001b[0m\u001b[1;34m'wave'\u001b[0m\u001b[1;33m)\u001b[0m\u001b[1;33m\u001b[0m\u001b[0m\n\u001b[0;32m     33\u001b[0m \u001b[1;33m\u001b[0m\u001b[0m\n",
        "\u001b[1;32m/usr/local/lib/python2.7/dist-packages/pymatlab/matlab.pyc\u001b[0m in \u001b[0;36mrun\u001b[1;34m(self, matlab_statement)\u001b[0m\n\u001b[0;32m     74\u001b[0m         \u001b[1;31m#wrap statement to be able to catch errors\u001b[0m\u001b[1;33m\u001b[0m\u001b[1;33m\u001b[0m\u001b[0m\n\u001b[0;32m     75\u001b[0m         \u001b[0mreal_statement\u001b[0m \u001b[1;33m=\u001b[0m \u001b[0mwrap_script\u001b[0m\u001b[1;33m.\u001b[0m\u001b[0mformat\u001b[0m\u001b[1;33m(\u001b[0m\u001b[0mmatlab_statement\u001b[0m\u001b[1;33m)\u001b[0m\u001b[1;33m\u001b[0m\u001b[0m\n\u001b[1;32m---> 76\u001b[1;33m         \u001b[0mself\u001b[0m\u001b[1;33m.\u001b[0m\u001b[0mengine\u001b[0m\u001b[1;33m.\u001b[0m\u001b[0mengEvalString\u001b[0m\u001b[1;33m(\u001b[0m\u001b[0mself\u001b[0m\u001b[1;33m.\u001b[0m\u001b[0mep\u001b[0m\u001b[1;33m,\u001b[0m\u001b[0mc_char_p\u001b[0m\u001b[1;33m(\u001b[0m\u001b[0mreal_statement\u001b[0m\u001b[1;33m)\u001b[0m\u001b[1;33m)\u001b[0m\u001b[1;33m\u001b[0m\u001b[0m\n\u001b[0m\u001b[0;32m     77\u001b[0m         \u001b[0mself\u001b[0m\u001b[1;33m.\u001b[0m\u001b[0mengine\u001b[0m\u001b[1;33m.\u001b[0m\u001b[0mengGetVariable\u001b[0m\u001b[1;33m.\u001b[0m\u001b[0mrestype\u001b[0m\u001b[1;33m=\u001b[0m\u001b[0mPOINTER\u001b[0m\u001b[1;33m(\u001b[0m\u001b[0mmxArray\u001b[0m\u001b[1;33m)\u001b[0m\u001b[1;33m\u001b[0m\u001b[0m\n\u001b[0;32m     78\u001b[0m         mxresult = self.engine.engGetVariable(\n",
        "\u001b[1;31mKeyboardInterrupt\u001b[0m: "
       ]
      }
     ],
     "prompt_number": 9
    },
    {
     "cell_type": "code",
     "collapsed": false,
     "input": [
      "xs.shape"
     ],
     "language": "python",
     "metadata": {},
     "outputs": [
      {
       "metadata": {},
       "output_type": "pyout",
       "prompt_number": 23,
       "text": [
        "(628, 13)"
       ]
      }
     ],
     "prompt_number": 23
    },
    {
     "cell_type": "code",
     "collapsed": false,
     "input": [
      "xs.shape, ynew.shape"
     ],
     "language": "python",
     "metadata": {},
     "outputs": [
      {
       "metadata": {},
       "output_type": "pyout",
       "prompt_number": 30,
       "text": [
        "((628, 13), (1256, 13))"
       ]
      }
     ],
     "prompt_number": 30
    },
    {
     "cell_type": "code",
     "collapsed": false,
     "input": [
      "subplot(121)\n",
      "plot(xs)\n",
      "subplot(122)\n",
      "plot(s)"
     ],
     "language": "python",
     "metadata": {},
     "outputs": [
      {
       "metadata": {},
       "output_type": "pyout",
       "prompt_number": 19,
       "text": [
        "[<matplotlib.lines.Line2D at 0x6e48710>]"
       ]
      },
      {
       "metadata": {},
       "output_type": "display_data",
       "png": "[encoded data removed]",
       "text": [
        "<matplotlib.figure.Figure at 0x6818fd0>"
       ]
      }
     ],
     "prompt_number": 19
    },
    {
     "cell_type": "code",
     "collapsed": false,
     "input": [
      "import librosa\n",
      "librosa.output.write_wav('sound.wav', s.astype(float32), 11025)"
     ],
     "language": "python",
     "metadata": {},
     "outputs": [],
     "prompt_number": 33
    },
    {
     "cell_type": "code",
     "collapsed": false,
     "input": [
      "import pyaudio\n",
      "pa = pyaudio.PyAudio()\n",
      "stream = pa.open(format=pyaudio.paFloat32,\n",
      "                channels=1,\n",
      "                rate=11025,\n",
      "                output=True)"
     ],
     "language": "python",
     "metadata": {},
     "outputs": [],
     "prompt_number": 34
    },
    {
     "cell_type": "code",
     "collapsed": false,
     "input": [
      "stream.write(s.astype(float32).tostring())"
     ],
     "language": "python",
     "metadata": {},
     "outputs": [],
     "prompt_number": 22
    },
    {
     "cell_type": "code",
     "collapsed": false,
     "input": [
      "sys.path.append('../../dmpbbo/python/')\n",
      "sys.path.append('../../dmpbbo/build_dir/python/')\n",
      "from dmpbbo import Dmp"
     ],
     "language": "python",
     "metadata": {},
     "outputs": [],
     "prompt_number": 11
    },
    {
     "cell_type": "code",
     "collapsed": false,
     "input": [
      "n_dmps = env.conf.m_ndims\n",
      "bfs = 4\n",
      "dmp = Dmp(n_dmps, bfs)\n",
      "dmp.tau = 4.\n",
      "dmp.set_attractor_state([0.2] * n_dmps)"
     ],
     "language": "python",
     "metadata": {},
     "outputs": [],
     "prompt_number": 12
    },
    {
     "cell_type": "code",
     "collapsed": false,
     "input": [
      "m = list(70. * randn(n_dmps * bfs))\n",
      "ts, xs, xds, xdds = dmp.trajectory(400, m)"
     ],
     "language": "python",
     "metadata": {},
     "outputs": [],
     "prompt_number": 12
    },
    {
     "cell_type": "code",
     "collapsed": false,
     "input": [
      "xs = array(xs)\n",
      "#plot(xdds)"
     ],
     "language": "python",
     "metadata": {},
     "outputs": [],
     "prompt_number": 13
    },
    {
     "cell_type": "code",
     "collapsed": false,
     "input": [
      "dmp.trajectory("
     ],
     "language": "python",
     "metadata": {},
     "outputs": []
    },
    {
     "cell_type": "code",
     "collapsed": false,
     "input": [
      "xs.shape"
     ],
     "language": "python",
     "metadata": {},
     "outputs": [
      {
       "metadata": {},
       "output_type": "pyout",
       "prompt_number": 10,
       "text": [
        "(400, 13)"
       ]
      }
     ],
     "prompt_number": 10
    },
    {
     "cell_type": "code",
     "collapsed": false,
     "input": [
      "sounds = []\n",
      "for _ in range(100):\n",
      "    m = list(70. * randn(n_dmps * bfs))\n",
      "    ts, xs, xds, xdds = dmp.trajectory(400, m)    \n",
      "    s= env.sound_wave(xs)\n",
      "    sounds.append(s)\n",
      "    stream.write(s.astype(float32).tostring())"
     ],
     "language": "python",
     "metadata": {},
     "outputs": []
    },
    {
     "cell_type": "code",
     "collapsed": false,
     "input": [
      "s_44 = librosa.resample(s, 11025, 44100)"
     ],
     "language": "python",
     "metadata": {},
     "outputs": [],
     "prompt_number": 23
    },
    {
     "cell_type": "code",
     "collapsed": false,
     "input": [
      "from numpy import save\n",
      "save('sounds.npy', sounds)"
     ],
     "language": "python",
     "metadata": {},
     "outputs": [],
     "prompt_number": 26
    },
    {
     "cell_type": "code",
     "collapsed": false,
     "input": [
      "from numpy import load\n",
      "sounds = load('sounds.npy')"
     ],
     "language": "python",
     "metadata": {},
     "outputs": [],
     "prompt_number": 3
    },
    {
     "cell_type": "code",
     "collapsed": false,
     "input": [
      "len(test)"
     ],
     "language": "python",
     "metadata": {},
     "outputs": [
      {
       "metadata": {},
       "output_type": "pyout",
       "prompt_number": 29,
       "text": [
        "100"
       ]
      }
     ],
     "prompt_number": 29
    },
    {
     "cell_type": "code",
     "collapsed": false,
     "input": [
      "from numpy import load, float32\n",
      "import pyaudio\n",
      "import time\n",
      "\n",
      "\n",
      "sounds = load('sounds.npy')\n",
      "\n",
      "pa = pyaudio.PyAudio()\n",
      "stream = pa.open(format=pyaudio.paFloat32,\n",
      "                channels=1,\n",
      "                rate=11025,\n",
      "                output=True)\n",
      "\n",
      "for s in sounds:\n",
      "    stream.write(s.astype(float32).tostring())\n",
      "    time.sleep(0.4)"
     ],
     "language": "python",
     "metadata": {},
     "outputs": [],
     "prompt_number": 5
    },
    {
     "cell_type": "code",
     "collapsed": false,
     "input": [
      "from scipy.io import wavfile"
     ],
     "language": "python",
     "metadata": {},
     "outputs": [],
     "prompt_number": 4
    },
    {
     "cell_type": "code",
     "collapsed": false,
     "input": [
      "wavfile.write('sound_11025.wav', 11025, s.astype(float32))"
     ],
     "language": "python",
     "metadata": {},
     "outputs": [],
     "prompt_number": 28
    },
    {
     "cell_type": "code",
     "collapsed": false,
     "input": [
      "%pylab inline\n",
      "plot(sounds[0])"
     ],
     "language": "python",
     "metadata": {},
     "outputs": [
      {
       "output_type": "stream",
       "stream": "stdout",
       "text": [
        "Populating the interactive namespace from numpy and matplotlib\n"
       ]
      },
      {
       "metadata": {},
       "output_type": "pyout",
       "prompt_number": 6,
       "text": [
        "[<matplotlib.lines.Line2D at 0x401be90>]"
       ]
      },
      {
       "metadata": {},
       "output_type": "display_data",
       "png": "[encoded data removed]",
       "text": [
        "<matplotlib.figure.Figure at 0x3efca90>"
       ]
      }
     ],
     "prompt_number": 6
    },
    {
     "cell_type": "code",
     "collapsed": false,
     "input": [
      "wavfile.write?"
     ],
     "language": "python",
     "metadata": {},
     "outputs": [],
     "prompt_number": 7
    },
    {
     "cell_type": "code",
     "collapsed": false,
     "input": [
      "sounds[0].dtype"
     ],
     "language": "python",
     "metadata": {},
     "outputs": [
      {
       "metadata": {},
       "output_type": "pyout",
       "prompt_number": 10,
       "text": [
        "dtype('float64')"
       ]
      }
     ],
     "prompt_number": 10
    },
    {
     "cell_type": "code",
     "collapsed": false,
     "input": [
      "for i, s in enumerate(sounds):\n",
      "    librosa.output.write_wav('poppy_voc/sound_' + str(i) + '.wav', s.astype(float32), 11025)\n",
      "#s /= 600.\n",
      "#wavfile.write('sound.wav', 11025, s.astype(float32))"
     ],
     "language": "python",
     "metadata": {},
     "outputs": [],
     "prompt_number": 37
    },
    {
     "cell_type": "code",
     "collapsed": false,
     "input": [
      "s.dtype"
     ],
     "language": "python",
     "metadata": {},
     "outputs": [
      {
       "metadata": {},
       "output_type": "pyout",
       "prompt_number": 26,
       "text": [
        "dtype('float64')"
       ]
      }
     ],
     "prompt_number": 26
    },
    {
     "cell_type": "code",
     "collapsed": false,
     "input": [
      "s.astype(float32).dtype"
     ],
     "language": "python",
     "metadata": {},
     "outputs": [
      {
       "metadata": {},
       "output_type": "pyout",
       "prompt_number": 27,
       "text": [
        "dtype('float32')"
       ]
      }
     ],
     "prompt_number": 27
    },
    {
     "cell_type": "code",
     "collapsed": false,
     "input": [],
     "language": "python",
     "metadata": {},
     "outputs": []
    }
   ],
   "metadata": {}
  }
 ]
}