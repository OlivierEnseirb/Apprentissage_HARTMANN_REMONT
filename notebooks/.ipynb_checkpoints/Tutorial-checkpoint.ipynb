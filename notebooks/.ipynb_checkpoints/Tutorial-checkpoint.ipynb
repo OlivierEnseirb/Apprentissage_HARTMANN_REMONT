{
 "cells": [
  {
   "cell_type": "code",
   "execution_count": 1,
   "metadata": {
    "collapsed": false
   },
   "outputs": [
    {
     "data": {
      "text/plain": [
       "dict_keys(['npendulum', 'pendulum', 'simple_arm'])"
      ]
     },
     "execution_count": 1,
     "metadata": {},
     "output_type": "execute_result"
    }
   ],
   "source": [
    "from explauto.environment import environments\n",
    "environments.keys()"
   ]
  },
  {
   "cell_type": "code",
   "execution_count": 2,
   "metadata": {
    "collapsed": false
   },
   "outputs": [
    {
     "data": {
      "text/plain": [
       "dict_keys(['high_dim_high_s_range', 'mid_dimensional', 'high_dimensional', 'default', 'low_dimensional'])"
      ]
     },
     "execution_count": 2,
     "metadata": {},
     "output_type": "execute_result"
    }
   ],
   "source": [
    "from explauto.environment import available_configurations\n",
    "available_configurations('simple_arm').keys()"
   ]
  },
  {
   "cell_type": "code",
   "execution_count": 3,
   "metadata": {
    "collapsed": false
   },
   "outputs": [
    {
     "data": {
      "text/plain": [
       "{'length_ratio': 1.5,\n",
       " 'm_maxs': array([ 1.04719755,  1.04719755,  1.04719755,  1.04719755,  1.04719755,\n",
       "         1.04719755,  1.04719755]),\n",
       " 'm_mins': array([-1.04719755, -1.04719755, -1.04719755, -1.04719755, -1.04719755,\n",
       "        -1.04719755, -1.04719755]),\n",
       " 'noise': 0.02,\n",
       " 's_maxs': array([ 1.,  1.]),\n",
       " 's_mins': array([-0.5, -1. ])}"
      ]
     },
     "execution_count": 3,
     "metadata": {},
     "output_type": "execute_result"
    }
   ],
   "source": [
    "available_configurations('simple_arm')['mid_dimensional']"
   ]
  },
  {
   "cell_type": "code",
   "execution_count": 4,
   "metadata": {
    "collapsed": false
   },
   "outputs": [
    {
     "data": {
      "text/plain": [
       "dict_keys(['default', 'underactuated'])"
      ]
     },
     "execution_count": 4,
     "metadata": {},
     "output_type": "execute_result"
    }
   ],
   "source": [
    "available_configurations('pendulum').keys()"
   ]
  },
  {
   "cell_type": "code",
   "execution_count": 5,
   "metadata": {
    "collapsed": true
   },
   "outputs": [],
   "source": [
    "from explauto import Environment\n",
    "environment = Environment.from_configuration('simple_arm', 'mid_dimensional')"
   ]
  },
  {
   "cell_type": "code",
   "execution_count": 6,
   "metadata": {
    "collapsed": false
   },
   "outputs": [
    {
     "data": {
      "text/plain": [
       "array([ 0.43546365,  0.25897396])"
      ]
     },
     "execution_count": 6,
     "metadata": {},
     "output_type": "execute_result"
    }
   ],
   "source": [
    "from numpy import pi\n",
    "m = [-pi/6., pi/3., pi/4., pi/5., 0., pi/3., pi/6.]\n",
    "environment.compute_sensori_effect(m)"
   ]
  },
  {
   "cell_type": "code",
   "execution_count": 7,
   "metadata": {
    "collapsed": false
   },
   "outputs": [
    {
     "name": "stdout",
     "output_type": "stream",
     "text": [
      "Populating the interactive namespace from numpy and matplotlib\n"
     ]
    },
    {
     "data": {
      "image/png": "[encoded data removed]",
      "text/plain": [
       "<matplotlib.figure.Figure at 0x3a962ca048>"
      ]
     },
     "metadata": {},
     "output_type": "display_data"
    }
   ],
   "source": [
    "# Create the axes for plotting::\n",
    "%pylab inline\n",
    "ax = axes()\n",
    "\n",
    "# plot the arm:\n",
    "environment.plot_arm(ax, m)"
   ]
  },
  {
   "cell_type": "code",
   "execution_count": 13,
   "metadata": {
    "collapsed": true
   },
   "outputs": [],
   "source": [
    "motor_configurations = environment.random_motors(n=10)"
   ]
  },
  {
   "cell_type": "code",
   "execution_count": 14,
   "metadata": {
    "collapsed": false,
    "scrolled": true
   },
   "outputs": [
    {
     "name": "stdout",
     "output_type": "stream",
     "text": [
      "Populating the interactive namespace from numpy and matplotlib\n"
     ]
    },
    {
     "data": {
      "image/png": "[encoded data removed]",
      "text/plain": [
       "<matplotlib.figure.Figure at 0x3a96786780>"
      ]
     },
     "metadata": {},
     "output_type": "display_data"
    }
   ],
   "source": [
    "# Create the axes for plotting::\n",
    "%pylab inline\n",
    "ax = axes()\n",
    "\n",
    "# Plotting 10 random motor configurations:\n",
    "for m in motor_configurations:\n",
    "    environment.plot_arm(ax, m)"
   ]
  },
  {
   "cell_type": "code",
   "execution_count": 15,
   "metadata": {
    "collapsed": false
   },
   "outputs": [],
   "source": [
    "environment = Environment.from_configuration('pendulum', 'default')"
   ]
  },
  {
   "cell_type": "code",
   "execution_count": 16,
   "metadata": {
    "collapsed": false
   },
   "outputs": [
    {
     "name": "stdout",
     "output_type": "stream",
     "text": [
      "Using matplotlib backend: Qt4Agg\n",
      "Populating the interactive namespace from numpy and matplotlib\n"
     ]
    },
    {
     "data": {
      "image/png": "[encoded data removed]",
      "text/plain": [
       "<matplotlib.figure.Figure at 0x3a91a32780>"
      ]
     },
     "metadata": {},
     "output_type": "display_data"
    }
   ],
   "source": [
    "%pylab\n",
    "ax = axes()\n",
    "\n",
    "# Sequence of torques at each time step:\n",
    "U = [0.25] * 15 + [-0.25] * 15 + [0.25] * 19\n",
    "\n",
    "# reset to lower position:\n",
    "environment.reset() \n",
    "\n",
    "# apply torque and plot:\n",
    "for u in U:\n",
    "    ax.cla()\n",
    "    environment.apply_torque(u)\n",
    "    environment.plot_current_state(ax)\n",
    "    draw()"
   ]
  },
  {
   "cell_type": "code",
   "execution_count": 17,
   "metadata": {
    "collapsed": false
   },
   "outputs": [
    {
     "data": {
      "text/plain": [
       "array([ 1.42291661,  1.65815181])"
      ]
     },
     "execution_count": 17,
     "metadata": {},
     "output_type": "execute_result"
    }
   ],
   "source": [
    "environment.compute_sensori_effect(environment.random_motors())"
   ]
  },
  {
   "cell_type": "code",
   "execution_count": 18,
   "metadata": {
    "collapsed": true
   },
   "outputs": [],
   "source": [
    "environment = Environment.from_configuration('simple_arm', 'mid_dimensional')"
   ]
  },
  {
   "cell_type": "code",
   "execution_count": 19,
   "metadata": {
    "collapsed": false
   },
   "outputs": [
    {
     "data": {
      "text/plain": [
       "dict_keys(['LWLR-BFGS', 'nearest_neighbor', 'WNN', 'LWLR-CMAES'])"
      ]
     },
     "execution_count": 19,
     "metadata": {},
     "output_type": "execute_result"
    }
   ],
   "source": [
    "from explauto.sensorimotor_model import sensorimotor_models\n",
    "sensorimotor_models.keys()"
   ]
  },
  {
   "cell_type": "code",
   "execution_count": 20,
   "metadata": {
    "collapsed": false
   },
   "outputs": [
    {
     "data": {
      "text/plain": [
       "{'default': {'fwd': 'NN', 'inv': 'NN', 'sigma_explo_ratio': 0.1},\n",
       " 'exact': {'fwd': 'NN', 'inv': 'NN', 'sigma_explo_ratio': 0.0}}"
      ]
     },
     "execution_count": 20,
     "metadata": {},
     "output_type": "execute_result"
    }
   ],
   "source": [
    "from explauto.sensorimotor_model import available_configurations\n",
    "available_configurations('nearest_neighbor')"
   ]
  },
  {
   "cell_type": "code",
   "execution_count": 21,
   "metadata": {
    "collapsed": true
   },
   "outputs": [],
   "source": [
    "from explauto import SensorimotorModel\n",
    "sm_model = SensorimotorModel.from_configuration(environment.conf, 'nearest_neighbor', 'exact')"
   ]
  },
  {
   "cell_type": "code",
   "execution_count": 38,
   "metadata": {
    "collapsed": true
   },
   "outputs": [],
   "source": [
    "for m in environment.random_motors(n=1000):\n",
    "    # compute the sensori effect s of the motor command m through the environment:\n",
    "    s = environment.compute_sensori_effect(m)\n",
    "    # update the model according to this experience:\n",
    "    sm_model.update(m, s)"
   ]
  },
  {
   "cell_type": "code",
   "execution_count": 39,
   "metadata": {
    "collapsed": false
   },
   "outputs": [
    {
     "name": "stdout",
     "output_type": "stream",
     "text": [
      "random motor command:  [-0.63859213 -0.96014384 -0.03123116  0.87317263 -0.80434122 -0.32806339\n",
      "  0.11104213]\n",
      "predicted effect:  [ 0.26268566 -0.75682275]\n"
     ]
    }
   ],
   "source": [
    "# random motor command:\n",
    "m = environment.random_motors(n=1)[0]\n",
    "# predicted sensory effect:\n",
    "s_pred = sm_model.forward_prediction(m)\n",
    "\n",
    "print('random motor command: ', m)\n",
    "print('predicted effect: ', s_pred)"
   ]
  },
  {
   "cell_type": "code",
   "execution_count": 40,
   "metadata": {
    "collapsed": false
   },
   "outputs": [
    {
     "name": "stdout",
     "output_type": "stream",
     "text": [
      "Populating the interactive namespace from numpy and matplotlib\n"
     ]
    },
    {
     "data": {
      "text/plain": [
       "[<matplotlib.lines.Line2D at 0x3a96fa1630>]"
      ]
     },
     "execution_count": 40,
     "metadata": {},
     "output_type": "execute_result"
    },
    {
     "data": {
      "image/png": "[encoded data removed]",
      "text/plain": [
       "<matplotlib.figure.Figure at 0x3a96c92a20>"
      ]
     },
     "metadata": {},
     "output_type": "display_data"
    }
   ],
   "source": [
    "%pylab inline\n",
    "ax = axes()\n",
    "\n",
    "environment.plot_arm(ax, m)\n",
    "ax.plot(*s_pred, marker='o', color='red')"
   ]
  },
  {
   "cell_type": "code",
   "execution_count": 41,
   "metadata": {
    "collapsed": false
   },
   "outputs": [
    {
     "name": "stdout",
     "output_type": "stream",
     "text": [
      "Inferred motor command to reach the position  [0.7, 0.5] :  [ 0.8309081  -0.04371399  0.48309799 -0.95292833 -0.93446474 -0.89753768\n",
      "  0.22740625]\n"
     ]
    }
   ],
   "source": [
    "s_g = [0.7, 0.5]\n",
    "m = sm_model.inverse_prediction(s_g)\n",
    "print('Inferred motor command to reach the position ', s_g, ': ', m)"
   ]
  },
  {
   "cell_type": "code",
   "execution_count": 42,
   "metadata": {
    "collapsed": false
   },
   "outputs": [
    {
     "data": {
      "text/plain": [
       "[<matplotlib.lines.Line2D at 0x3a97011550>]"
      ]
     },
     "execution_count": 42,
     "metadata": {},
     "output_type": "execute_result"
    },
    {
     "data": {
      "image/png": "[encoded data removed]",
      "text/plain": [
       "<matplotlib.figure.Figure at 0x3a96fb7a58>"
      ]
     },
     "metadata": {},
     "output_type": "display_data"
    }
   ],
   "source": [
    "ax = axes()\n",
    "environment.plot_arm(ax, m)\n",
    "ax.plot(*s_g, marker='o', color='red')"
   ]
  },
  {
   "cell_type": "code",
   "execution_count": 43,
   "metadata": {
    "collapsed": false
   },
   "outputs": [
    {
     "data": {
      "image/png": "[encoded data removed]",
      "text/plain": [
       "<matplotlib.figure.Figure at 0x3a96fdfda0>"
      ]
     },
     "metadata": {},
     "output_type": "display_data"
    }
   ],
   "source": [
    "ax = axes()\n",
    "\n",
    "# Define the line and plot it:\n",
    "x = 0.8\n",
    "y_a = 0.5\n",
    "y_b = -0.5\n",
    "ax.plot([x, x], [y_a, y_b], color='red')\n",
    "\n",
    "# for 10 points equidistantly spaced on the line, perform inverse prediction and plot:\n",
    "for y in linspace(-0.5, 0.5, 10):\n",
    "    m = sm_model.inverse_prediction([x, y])\n",
    "    environment.plot_arm(ax, m)"
   ]
  },
  {
   "cell_type": "code",
   "execution_count": 35,
   "metadata": {
    "collapsed": true
   },
   "outputs": [],
   "source": [
    "sm_model = SensorimotorModel.from_configuration(environment.conf, 'LWLR-BFGS', 'default')"
   ]
  },
  {
   "cell_type": "code",
   "execution_count": 44,
   "metadata": {
    "collapsed": false
   },
   "outputs": [
    {
     "data": {
      "text/plain": [
       "dict_keys(['discretized_progress', 'random', 'tree', 'gmm_progress_beta'])"
      ]
     },
     "execution_count": 44,
     "metadata": {},
     "output_type": "execute_result"
    }
   ],
   "source": [
    "from explauto.interest_model import interest_models, available_configurations\n",
    "interest_models.keys()"
   ]
  },
  {
   "cell_type": "code",
   "execution_count": 45,
   "metadata": {
    "collapsed": false
   },
   "outputs": [
    {
     "data": {
      "text/plain": [
       "{'default': {'measure': <function explauto.interest_model.competences.competence_dist>,\n",
       "  'win_size': 10,\n",
       "  'x_card': 400}}"
      ]
     },
     "execution_count": 45,
     "metadata": {},
     "output_type": "execute_result"
    }
   ],
   "source": [
    "available_configurations('discretized_progress')"
   ]
  },
  {
   "cell_type": "code",
   "execution_count": 46,
   "metadata": {
    "collapsed": true
   },
   "outputs": [],
   "source": [
    "from explauto import InterestModel\n",
    "im_model = InterestModel.from_configuration(environment.conf, environment.conf.m_dims, 'random')"
   ]
  },
  {
   "cell_type": "code",
   "execution_count": 47,
   "metadata": {
    "collapsed": false
   },
   "outputs": [
    {
     "data": {
      "image/png": "[encoded data removed]",
      "text/plain": [
       "<matplotlib.figure.Figure at 0x3a96799470>"
      ]
     },
     "metadata": {},
     "output_type": "display_data"
    }
   ],
   "source": [
    "# re-instantiate the sensorimotor model (to forget what was previously learnt in the previous section\n",
    "sm_model = SensorimotorModel.from_configuration(environment.conf, 'nearest_neighbor', 'default')\n",
    "\n",
    "# run the simulation loop\n",
    "for _ in range(100):\n",
    "    # sample a random motor command using the interest model:\n",
    "    m = im_model.sample()\n",
    "    # execute this command and observe the corresponding sensory effect:\n",
    "    s = environment.compute_sensori_effect(m)\n",
    "    # update the sensorimotor model:\n",
    "    sm_model.update(m, s)\n",
    "    im_model.update(hstack((m, s)), hstack((m, s_g)))\n",
    "    # plot the observed sensory effect:\n",
    "    plot(s[0], s[1], 'ok')"
   ]
  },
  {
   "cell_type": "code",
   "execution_count": 48,
   "metadata": {
    "collapsed": false
   },
   "outputs": [
    {
     "data": {
      "image/png": "[encoded data removed]",
      "text/plain": [
       "<matplotlib.figure.Figure at 0x3a967a9978>"
      ]
     },
     "metadata": {},
     "output_type": "display_data"
    }
   ],
   "source": [
    "# Instantiate a random goal interest model:\n",
    "im_model = InterestModel.from_configuration(environment.conf, environment.conf.s_dims, 'random')\n",
    "\n",
    "for _ in range(100):\n",
    "    # sample a random sensory goal using the interest model:\n",
    "    s_g = im_model.sample()\n",
    "    # infer a motor command to reach that goal using the sensorimotor model:\n",
    "    m = sm_model.inverse_prediction(s_g)\n",
    "    # execute this command and observe the corresponding sensory effect:\n",
    "    s = environment.compute_sensori_effect(m)\n",
    "    # update the sensorimotor model:\n",
    "    sm_model.update(m, s)\n",
    "    # plot the observed sensory effect:\n",
    "    plot(s[0], s[1], 'ok')"
   ]
  },
  {
   "cell_type": "code",
   "execution_count": null,
   "metadata": {
    "collapsed": true
   },
   "outputs": [],
   "source": []
  }
 ],
 "metadata": {
  "kernelspec": {
   "display_name": "Python 3",
   "language": "python",
   "name": "python3"
  },
  "language_info": {
   "codemirror_mode": {
    "name": "ipython",
    "version": 3
   },
   "file_extension": ".py",
   "mimetype": "text/x-python",
   "name": "python",
   "nbconvert_exporter": "python",
   "pygments_lexer": "ipython3",
   "version": "3.5.1"
  }
 },
 "nbformat": 4,
 "nbformat_minor": 0
}
