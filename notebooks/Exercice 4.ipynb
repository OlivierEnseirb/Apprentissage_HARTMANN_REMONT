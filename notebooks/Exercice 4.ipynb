{
 "cells": [
  {
   "cell_type": "markdown",
   "metadata": {},
   "source": [
    "En regardant les résultats des exercices réalisés et des tutoriels, on remarque plusieurs choses.\n",
    "\n",
    "D'abord, les résultats du MGD sont très correctes quelque soit la méthode utilisée avec même d'excellents résultats pour la méthode LWLR-CMAES quelque soit la méthode d'exploration utilisée (goal ou motor babbling).\n",
    "Ensuite, la détermination du MGI est une tâche très délicate qu'une méthode d'exploration motor babbling semble ne pas être capable de réaliser.\n",
    "Enfin, les deux méthodes semble se concentrer sur l'exploration des demi cercles à droite du robot. La méthode motor babbling a une tendance à explorer le centre de ce demi-cercle quand la goal babbling se focaliserait sur les zones plus compliquée que sont les extrémités de ce demi-cercle. Cette deuxième solution serait donc plus propice à de bons résultats puisqu'elle se concentre sur la partie plus compliquée, là où elle peut le plus apprendre."
   ]
  }
 ],
 "metadata": {
  "kernelspec": {
   "display_name": "Python 3",
   "language": "python",
   "name": "python3"
  },
  "language_info": {
   "codemirror_mode": {
    "name": "ipython",
    "version": 3
   },
   "file_extension": ".py",
   "mimetype": "text/x-python",
   "name": "python",
   "nbconvert_exporter": "python",
   "pygments_lexer": "ipython3",
   "version": "3.5.1"
  }
 },
 "nbformat": 4,
 "nbformat_minor": 0
}
